{
 "cells": [
  {
   "cell_type": "code",
   "execution_count": 1,
   "metadata": {},
   "outputs": [],
   "source": [
    "from sklearn.datasets import load_breast_cancer\n",
    "import pandas as pd"
   ]
  },
  {
   "cell_type": "code",
   "execution_count": 2,
   "metadata": {},
   "outputs": [
    {
     "data": {
      "text/plain": [
       "array(['mean radius', 'mean texture', 'mean perimeter', 'mean area',\n",
       "       'mean smoothness', 'mean compactness', 'mean concavity',\n",
       "       'mean concave points', 'mean symmetry', 'mean fractal dimension',\n",
       "       'radius error', 'texture error', 'perimeter error', 'area error',\n",
       "       'smoothness error', 'compactness error', 'concavity error',\n",
       "       'concave points error', 'symmetry error',\n",
       "       'fractal dimension error', 'worst radius', 'worst texture',\n",
       "       'worst perimeter', 'worst area', 'worst smoothness',\n",
       "       'worst compactness', 'worst concavity', 'worst concave points',\n",
       "       'worst symmetry', 'worst fractal dimension'], dtype='<U23')"
      ]
     },
     "execution_count": 2,
     "metadata": {},
     "output_type": "execute_result"
    }
   ],
   "source": [
    "breast_cancer_data = load_breast_cancer()\n",
    "breast_cancer_data.feature_names"
   ]
  },
  {
   "cell_type": "code",
   "execution_count": 3,
   "metadata": {},
   "outputs": [
    {
     "name": "stdout",
     "output_type": "stream",
     "text": [
      "[0 0 0 0 0 0 0 0 0 0 0 0 0 0 0 0 0 0 0 1 1 1 0 0 0 0 0 0 0 0 0 0 0 0 0 0 0\n",
      " 1 0 0 0 0 0 0 0 0 1 0 1 1 1 1 1 0 0 1 0 0 1 1 1 1 0 1 0 0 1 1 1 1 0 1 0 0\n",
      " 1 0 1 0 0 1 1 1 0 0 1 0 0 0 1 1 1 0 1 1 0 0 1 1 1 0 0 1 1 1 1 0 1 1 0 1 1\n",
      " 1 1 1 1 1 1 0 0 0 1 0 0 1 1 1 0 0 1 0 1 0 0 1 0 0 1 1 0 1 1 0 1 1 1 1 0 1\n",
      " 1 1 1 1 1 1 1 1 0 1 1 1 1 0 0 1 0 1 1 0 0 1 1 0 0 1 1 1 1 0 1 1 0 0 0 1 0\n",
      " 1 0 1 1 1 0 1 1 0 0 1 0 0 0 0 1 0 0 0 1 0 1 0 1 1 0 1 0 0 0 0 1 1 0 0 1 1\n",
      " 1 0 1 1 1 1 1 0 0 1 1 0 1 1 0 0 1 0 1 1 1 1 0 1 1 1 1 1 0 1 0 0 0 0 0 0 0\n",
      " 0 0 0 0 0 0 0 1 1 1 1 1 1 0 1 0 1 1 0 1 1 0 1 0 0 1 1 1 1 1 1 1 1 1 1 1 1\n",
      " 1 0 1 1 0 1 0 1 1 1 1 1 1 1 1 1 1 1 1 1 1 0 1 1 1 0 1 0 1 1 1 1 0 0 0 1 1\n",
      " 1 1 0 1 0 1 0 1 1 1 0 1 1 1 1 1 1 1 0 0 0 1 1 1 1 1 1 1 1 1 1 1 0 0 1 0 0\n",
      " 0 1 0 0 1 1 1 1 1 0 1 1 1 1 1 0 1 1 1 0 1 1 0 0 1 1 1 1 1 1 0 1 1 1 1 1 1\n",
      " 1 0 1 1 1 1 1 0 1 1 0 1 1 1 1 1 1 1 1 1 1 1 1 0 1 0 0 1 0 1 1 1 1 1 0 1 1\n",
      " 0 1 0 1 1 0 1 0 1 1 1 1 1 1 1 1 0 0 1 1 1 1 1 1 0 1 1 1 1 1 1 1 1 1 1 0 1\n",
      " 1 1 1 1 1 1 0 1 0 1 1 0 1 1 1 1 1 0 0 1 0 1 0 1 1 1 1 1 0 1 1 0 1 0 1 0 0\n",
      " 1 1 1 0 1 1 1 1 1 1 1 1 1 1 1 0 1 0 0 1 1 1 1 1 1 1 1 1 1 1 1 1 1 1 1 1 1\n",
      " 1 1 1 1 1 1 1 0 0 0 0 0 0 1]\n"
     ]
    },
    {
     "data": {
      "text/plain": [
       "array(['malignant', 'benign'], dtype='<U9')"
      ]
     },
     "execution_count": 3,
     "metadata": {},
     "output_type": "execute_result"
    }
   ],
   "source": [
    "print(breast_cancer_data.target)\n",
    "breast_cancer_data.target_names\n",
    "#Targets are labels\n",
    "#0 is malignant, 1 is benign"
   ]
  },
  {
   "cell_type": "code",
   "execution_count": 4,
   "metadata": {},
   "outputs": [
    {
     "name": "stdout",
     "output_type": "stream",
     "text": [
      "426 426\n"
     ]
    }
   ],
   "source": [
    "from sklearn.model_selection import train_test_split\n",
    "x_train, x_test, label_train, label_test = train_test_split(breast_cancer_data.data, breast_cancer_data.target,random_state = 5)\n",
    "print(len(x_train), len(label_train))"
   ]
  },
  {
   "cell_type": "code",
   "execution_count": 5,
   "metadata": {},
   "outputs": [
    {
     "data": {
      "text/plain": [
       "KNeighborsClassifier(n_neighbors=18)"
      ]
     },
     "execution_count": 5,
     "metadata": {},
     "output_type": "execute_result"
    }
   ],
   "source": [
    "from sklearn.neighbors import KNeighborsClassifier\n",
    "classifier = KNeighborsClassifier(n_neighbors = 18)\n",
    "classifier.fit(x_train, label_train)"
   ]
  },
  {
   "cell_type": "code",
   "execution_count": 6,
   "metadata": {},
   "outputs": [
    {
     "data": {
      "text/plain": [
       "0.965034965034965"
      ]
     },
     "execution_count": 6,
     "metadata": {},
     "output_type": "execute_result"
    }
   ],
   "source": [
    "classifier.score(x_test,label_test)\n",
    "#N_Neighbors at our guess of 18 seems pretty accurate, lets see what the most accurate K value is"
   ]
  },
  {
   "cell_type": "code",
   "execution_count": 7,
   "metadata": {},
   "outputs": [
    {
     "name": "stdout",
     "output_type": "stream",
     "text": [
      "K=1, Accuracy = 0.951048951048951\n",
      "K=2, Accuracy = 0.9440559440559441\n",
      "K=3, Accuracy = 0.9370629370629371\n",
      "K=4, Accuracy = 0.9370629370629371\n",
      "K=5, Accuracy = 0.951048951048951\n",
      "K=6, Accuracy = 0.958041958041958\n",
      "K=7, Accuracy = 0.9440559440559441\n",
      "K=8, Accuracy = 0.965034965034965\n",
      "K=9, Accuracy = 0.951048951048951\n",
      "K=10, Accuracy = 0.972027972027972\n",
      "K=11, Accuracy = 0.965034965034965\n",
      "K=12, Accuracy = 0.972027972027972\n",
      "K=13, Accuracy = 0.965034965034965\n",
      "K=14, Accuracy = 0.972027972027972\n",
      "K=15, Accuracy = 0.965034965034965\n",
      "K=16, Accuracy = 0.965034965034965\n",
      "K=17, Accuracy = 0.965034965034965\n",
      "K=18, Accuracy = 0.965034965034965\n",
      "K=19, Accuracy = 0.965034965034965\n",
      "K=20, Accuracy = 0.965034965034965\n",
      "K=21, Accuracy = 0.965034965034965\n",
      "K=22, Accuracy = 0.965034965034965\n",
      "K=23, Accuracy = 0.965034965034965\n",
      "K=24, Accuracy = 0.965034965034965\n",
      "K=25, Accuracy = 0.965034965034965\n",
      "K=26, Accuracy = 0.965034965034965\n",
      "K=27, Accuracy = 0.965034965034965\n",
      "K=28, Accuracy = 0.965034965034965\n",
      "K=29, Accuracy = 0.951048951048951\n",
      "K=30, Accuracy = 0.951048951048951\n",
      "K=31, Accuracy = 0.9440559440559441\n",
      "K=32, Accuracy = 0.951048951048951\n",
      "K=33, Accuracy = 0.9440559440559441\n",
      "K=34, Accuracy = 0.9440559440559441\n",
      "K=35, Accuracy = 0.9440559440559441\n",
      "K=36, Accuracy = 0.9440559440559441\n",
      "K=37, Accuracy = 0.9440559440559441\n",
      "K=38, Accuracy = 0.9440559440559441\n",
      "K=39, Accuracy = 0.9440559440559441\n",
      "K=40, Accuracy = 0.9440559440559441\n",
      "K=41, Accuracy = 0.9440559440559441\n",
      "K=42, Accuracy = 0.9440559440559441\n",
      "K=43, Accuracy = 0.9440559440559441\n",
      "K=44, Accuracy = 0.9440559440559441\n",
      "K=45, Accuracy = 0.9440559440559441\n",
      "K=46, Accuracy = 0.9440559440559441\n",
      "K=47, Accuracy = 0.9440559440559441\n",
      "K=48, Accuracy = 0.951048951048951\n",
      "K=49, Accuracy = 0.9440559440559441\n",
      "K=50, Accuracy = 0.958041958041958\n",
      "K=51, Accuracy = 0.9440559440559441\n",
      "K=52, Accuracy = 0.951048951048951\n",
      "K=53, Accuracy = 0.951048951048951\n",
      "K=54, Accuracy = 0.958041958041958\n",
      "K=55, Accuracy = 0.958041958041958\n",
      "K=56, Accuracy = 0.958041958041958\n",
      "K=57, Accuracy = 0.958041958041958\n",
      "K=58, Accuracy = 0.958041958041958\n",
      "K=59, Accuracy = 0.958041958041958\n",
      "K=60, Accuracy = 0.958041958041958\n",
      "K=61, Accuracy = 0.958041958041958\n",
      "K=62, Accuracy = 0.958041958041958\n",
      "K=63, Accuracy = 0.958041958041958\n",
      "K=64, Accuracy = 0.958041958041958\n",
      "K=65, Accuracy = 0.958041958041958\n",
      "K=66, Accuracy = 0.958041958041958\n",
      "K=67, Accuracy = 0.958041958041958\n",
      "K=68, Accuracy = 0.958041958041958\n",
      "K=69, Accuracy = 0.958041958041958\n",
      "K=70, Accuracy = 0.958041958041958\n",
      "K=71, Accuracy = 0.958041958041958\n",
      "K=72, Accuracy = 0.958041958041958\n",
      "K=73, Accuracy = 0.958041958041958\n",
      "K=74, Accuracy = 0.958041958041958\n",
      "K=75, Accuracy = 0.958041958041958\n",
      "K=76, Accuracy = 0.958041958041958\n",
      "K=77, Accuracy = 0.958041958041958\n",
      "K=78, Accuracy = 0.958041958041958\n",
      "K=79, Accuracy = 0.958041958041958\n",
      "K=80, Accuracy = 0.958041958041958\n",
      "K=81, Accuracy = 0.958041958041958\n",
      "K=82, Accuracy = 0.958041958041958\n",
      "K=83, Accuracy = 0.951048951048951\n",
      "K=84, Accuracy = 0.958041958041958\n",
      "K=85, Accuracy = 0.951048951048951\n",
      "K=86, Accuracy = 0.951048951048951\n",
      "K=87, Accuracy = 0.951048951048951\n",
      "K=88, Accuracy = 0.951048951048951\n",
      "K=89, Accuracy = 0.951048951048951\n",
      "K=90, Accuracy = 0.951048951048951\n",
      "K=91, Accuracy = 0.951048951048951\n",
      "K=92, Accuracy = 0.951048951048951\n",
      "K=93, Accuracy = 0.951048951048951\n",
      "K=94, Accuracy = 0.951048951048951\n",
      "K=95, Accuracy = 0.951048951048951\n",
      "K=96, Accuracy = 0.951048951048951\n",
      "K=97, Accuracy = 0.951048951048951\n",
      "K=98, Accuracy = 0.951048951048951\n",
      "K=99, Accuracy = 0.951048951048951\n"
     ]
    }
   ],
   "source": [
    "accuracy = [] #creating a list to plot k vs accuracy later\n",
    "\n",
    "for x in range(1,100):\n",
    "    classifier = KNeighborsClassifier(n_neighbors = x)\n",
    "    classifier.fit(x_train, label_train)\n",
    "    print(f\"K={x}, Accuracy = {classifier.score(x_test,label_test)}\")\n",
    "    accuracy.append(classifier.score(x_test,label_test))"
   ]
  },
  {
   "cell_type": "code",
   "execution_count": 8,
   "metadata": {},
   "outputs": [
    {
     "data": {
      "text/plain": [
       "Text(0.5, 1.0, 'Breast Cancer Classifier Accuracy')"
      ]
     },
     "execution_count": 8,
     "metadata": {},
     "output_type": "execute_result"
    },
    {
     "data": {
      "image/png": "[encoded data removed]",
      "text/plain": [
       "<Figure size 432x288 with 1 Axes>"
      ]
     },
     "metadata": {
      "needs_background": "light"
     },
     "output_type": "display_data"
    }
   ],
   "source": [
    "#K values from 10 to 28 give the most accurate predictions\n",
    "#plot instead of printed numbers\n",
    "from matplotlib import pyplot as plt\n",
    "plt.plot(range(1,100), accuracy)\n",
    "plt.xlabel(\"K Value\")\n",
    "plt.ylabel(\"Accuracy\")\n",
    "plt.title(\"Breast Cancer Classifier Accuracy\")\n",
    "#This is the general shape of nearly all KNN models"
   ]
  }
 ],
 "metadata": {
  "kernelspec": {
   "display_name": "Python 3",
   "language": "python",
   "name": "python3"
  },
  "language_info": {
   "codemirror_mode": {
    "name": "ipython",
    "version": 3
   },
   "file_extension": ".py",
   "mimetype": "text/x-python",
   "name": "python",
   "nbconvert_exporter": "python",
   "pygments_lexer": "ipython3",
   "version": "3.7.4"
  }
 },
 "nbformat": 4,
 "nbformat_minor": 4
}
